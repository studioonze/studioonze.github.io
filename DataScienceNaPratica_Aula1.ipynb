{
  "nbformat": 4,
  "nbformat_minor": 0,
  "metadata": {
    "colab": {
      "name": "DataScienceNaPratica_Aula1.ipynb",
      "provenance": [],
      "collapsed_sections": [
        "blkXmaN4bwzU",
        "fF86Y11CcH-t",
        "iSVkee19DfVK",
        "9CL13GP7l0gb",
        "xQCkO867cpu1",
        "fc85ML8bcsbR",
        "0_z3UtuaXNHU",
        "jeN91yWEm7yg",
        "waF4n1X6JwaH",
        "BaK-ABxrc0Q1",
        "lMK69VD8XdtG",
        "5-qJ_Nc5XQ8G"
      ],
      "include_colab_link": true
    },
    "kernelspec": {
      "name": "python3",
      "display_name": "Python 3"
    }
  },
  "cells": [
    {
      "cell_type": "markdown",
      "metadata": {
        "id": "view-in-github",
        "colab_type": "text"
      },
      "source": [
        "<a href=\"https://colab.research.google.com/github/studioonze/studioonze.github.io/blob/main/DataScienceNaPratica_Aula1.ipynb\" target=\"_parent\"><img src=\"https://colab.research.google.com/assets/colab-badge.svg\" alt=\"Open In Colab\"/></a>"
      ]
    },
    {
      "cell_type": "markdown",
      "metadata": {
        "id": "OOtMGke7AKOV"
      },
      "source": [
        "#AULA 1"
      ]
    },
    {
      "cell_type": "markdown",
      "metadata": {
        "id": "l16RNmVia3Gq"
      },
      "source": [
        "## Python\n",
        "\n",
        "---\n",
        "\n"
      ]
    },
    {
      "cell_type": "markdown",
      "metadata": {
        "id": "blkXmaN4bwzU"
      },
      "source": [
        "### Seu primeiro programa 🐣"
      ]
    },
    {
      "cell_type": "code",
      "metadata": {
        "id": "vBNGWECAa0eC"
      },
      "source": [
        "nome = input(\"Qual é o seu nome? \")\n",
        "print(f\"Hello {nome}\")"
      ],
      "execution_count": null,
      "outputs": []
    },
    {
      "cell_type": "markdown",
      "metadata": {
        "id": "y_ZPazAymncC"
      },
      "source": [
        "1. Faça um Programa que mostre a mensagem \"Alo mundo\" na tela.\n",
        "2. Faça um Programa que peça um número e então mostre a mensagem \"O número informado foi [número].\"\n",
        "3. Faça um Programa que peça dois números e imprima a soma.(+)\n",
        "4. Faça um Programa que peça as 3 notas e mostre a média.(/)\n",
        "5. Faça um Programa que converta metros para centímetros.(/)"
      ]
    },
    {
      "cell_type": "code",
      "metadata": {
        "id": "Mo3W2VhZ_VQL"
      },
      "source": [
        "print(\"Alo mundo\")"
      ],
      "execution_count": null,
      "outputs": []
    },
    {
      "cell_type": "code",
      "metadata": {
        "id": "qtQdVbhU_j7K"
      },
      "source": [
        "numero = input(\"Digite um número: \")\n",
        "print(f\"O número informado foi {numero}\")"
      ],
      "execution_count": null,
      "outputs": []
    },
    {
      "cell_type": "code",
      "metadata": {
        "id": "FNr-LdtNA07_"
      },
      "source": [
        "# ex. 3\n",
        "..."
      ],
      "execution_count": null,
      "outputs": []
    },
    {
      "cell_type": "code",
      "metadata": {
        "id": "tifFUsSgA1Gn"
      },
      "source": [
        "# ex. 4\n",
        "..."
      ],
      "execution_count": null,
      "outputs": []
    },
    {
      "cell_type": "code",
      "metadata": {
        "id": "X0FhyhCjA1PP"
      },
      "source": [
        "# ex. 5\n"
      ],
      "execution_count": null,
      "outputs": []
    },
    {
      "cell_type": "markdown",
      "metadata": {
        "id": "fF86Y11CcH-t"
      },
      "source": [
        "### Operadores\n",
        "### Aritméticos:\n",
        "![alt text](https://image.slidesharecdn.com/introduoapython-iijtims-mdulo1-131108230122-phpapp01/95/introduo-python-mdulo-1-46-638.jpg?cb=1383951826)\n",
        "### de Comparação:\n",
        "![alt text](https://image.slidesharecdn.com/apresentao-170510192311/95/captulo-2-python-6-638.jpg?cb=1494444228)"
      ]
    },
    {
      "cell_type": "code",
      "metadata": {
        "id": "9KiF8V3ocQZM"
      },
      "source": [
        "# SOMA\n",
        "1+1"
      ],
      "execution_count": null,
      "outputs": []
    },
    {
      "cell_type": "code",
      "metadata": {
        "id": "LX-sHjk2cS_m"
      },
      "source": [
        "# SUBTRAÇÃO\n",
        "1-1"
      ],
      "execution_count": null,
      "outputs": []
    },
    {
      "cell_type": "code",
      "metadata": {
        "id": "4E7cwx1OcU9R"
      },
      "source": [
        "# MULTIPLICAÇÃO\n",
        "1*10"
      ],
      "execution_count": null,
      "outputs": []
    },
    {
      "cell_type": "code",
      "metadata": {
        "id": "fPVGehO0cXAn"
      },
      "source": [
        "# DIVISÃO\n",
        "100 / 3"
      ],
      "execution_count": null,
      "outputs": []
    },
    {
      "cell_type": "code",
      "metadata": {
        "id": "4G7MTi1IcZ1K"
      },
      "source": [
        "# EXPONENCIAÇÃO\n",
        "4**2"
      ],
      "execution_count": null,
      "outputs": []
    },
    {
      "cell_type": "code",
      "metadata": {
        "id": "9dRZY9chF97p"
      },
      "source": [
        "# DIVISÃO INTEIRA\n",
        "10//3"
      ],
      "execution_count": null,
      "outputs": []
    },
    {
      "cell_type": "code",
      "metadata": {
        "id": "kcI4wPLRGMe2"
      },
      "source": [
        "'''\n",
        "MÓDULO\n",
        "'''\n",
        "10%3"
      ],
      "execution_count": null,
      "outputs": []
    },
    {
      "cell_type": "markdown",
      "metadata": {
        "id": "iSVkee19DfVK"
      },
      "source": [
        "### Tipos de Dados\n",
        "\n",
        "---\n",
        "\n",
        "* Inteiros:  declarados com **int()**\n",
        "<br>\n",
        "Exemplo de inteiros: 4, -234455, 21543...\n",
        "<br><br>\n",
        "* Flutuantes:  conhecidos como floating, são números decimais, declarados com **float()**\n",
        "<br>\n",
        "Exemplo de flutuantes: 4.0, -23.5, 215.43\n",
        "<br><br>\n",
        "* Booleanos:  conhecidos como lógicos, temos \"True\" ou \"False\", declarados com **bool()**\n",
        "<br>\n",
        "Exemplo de booleanos: True, False\n",
        "<br><br>\n",
        "* Strings:  conhecidos como cadeia de caracteres, inseridos entre aspas(duplas ou simples), declarados com **str()**\n",
        "<br>\n",
        "Exemplo de strings: \"oi!\", \"27\", \"23.50\""
      ]
    },
    {
      "cell_type": "code",
      "metadata": {
        "id": "OlMlroryFdgo"
      },
      "source": [
        "inteiro = 12\n",
        "type(inteiro)"
      ],
      "execution_count": null,
      "outputs": []
    },
    {
      "cell_type": "code",
      "metadata": {
        "id": "RzwqRmHBFpf3"
      },
      "source": [
        "flutuante = 12.5\n",
        "type(flutuante)"
      ],
      "execution_count": null,
      "outputs": []
    },
    {
      "cell_type": "code",
      "metadata": {
        "id": "4_ZeW7grFpos"
      },
      "source": [
        "booleano = True\n",
        "type(booleano)"
      ],
      "execution_count": null,
      "outputs": []
    },
    {
      "cell_type": "code",
      "metadata": {
        "id": "Wq9c8PjfFpyo"
      },
      "source": [
        "caracter = \"Olá, mundo!\"\n",
        "type(caracter)"
      ],
      "execution_count": null,
      "outputs": []
    },
    {
      "cell_type": "code",
      "metadata": {
        "id": "kHcCZadvYyyH"
      },
      "source": [
        "# VOCÊ PODE ALTERAR ALGUNS TIPOS DE DADOS\n",
        "print(int(10.45 + 20))"
      ],
      "execution_count": null,
      "outputs": []
    },
    {
      "cell_type": "markdown",
      "metadata": {
        "id": "9CL13GP7l0gb"
      },
      "source": [
        "### Estruturas de Dados"
      ]
    },
    {
      "cell_type": "code",
      "metadata": {
        "id": "pUotkSEWl8P3"
      },
      "source": [
        "# LISTA\n",
        "lista1 = []\n",
        "lista2 = ['josé', 'maria']\n",
        "lista3 = ['oi', 3.0, 40, True]"
      ],
      "execution_count": null,
      "outputs": []
    },
    {
      "cell_type": "code",
      "metadata": {
        "id": "MYUvv9aIDPvh"
      },
      "source": [
        "dir(lista1)"
      ],
      "execution_count": null,
      "outputs": []
    },
    {
      "cell_type": "code",
      "metadata": {
        "id": "M70VY-ALGlgy"
      },
      "source": [
        "lista1.insert(0, \"olá\")\n",
        "lista1.insert(1, \"tchau\")\n",
        "lista1"
      ],
      "execution_count": null,
      "outputs": []
    },
    {
      "cell_type": "code",
      "metadata": {
        "id": "pYuJS9rBiTxg"
      },
      "source": [
        "help(list.insert)"
      ],
      "execution_count": null,
      "outputs": []
    },
    {
      "cell_type": "code",
      "metadata": {
        "id": "cQuLi91il-fd"
      },
      "source": [
        "# TUPLAS\n",
        "tup = (1,2,3,4)\n",
        "#dir(tup)\n",
        "#help(tuple.count)\n",
        "tup.count(4)"
      ],
      "execution_count": null,
      "outputs": []
    },
    {
      "cell_type": "code",
      "metadata": {
        "id": "hn8I4j62mNkp"
      },
      "source": [
        "# SETS\n",
        "set1 = ({1,2,3,3})\n",
        "set2 = set([1,2,3])\n",
        "#dir(set1)\n",
        "set1.pop()\n",
        "set1\n",
        "#help(set.pop)"
      ],
      "execution_count": null,
      "outputs": []
    },
    {
      "cell_type": "code",
      "metadata": {
        "id": "WwCo0_JtmP-u"
      },
      "source": [
        "# DICIONARIOS\n",
        "pessoas = {\n",
        "    \"name\": \"joao\",\n",
        "    \"age\": 39, \n",
        "    \"skills\": ['python', 'r', 'java']\n",
        "}\n",
        "dir(pessoas)"
      ],
      "execution_count": null,
      "outputs": []
    },
    {
      "cell_type": "markdown",
      "metadata": {
        "id": "xQCkO867cpu1"
      },
      "source": [
        "### Condicionais"
      ]
    },
    {
      "cell_type": "code",
      "metadata": {
        "id": "1dccn0dLcsG2"
      },
      "source": [
        "# IF\n",
        "if 100 > 99:\n",
        "  print(\"100 é maior que 99!\")"
      ],
      "execution_count": null,
      "outputs": []
    },
    {
      "cell_type": "code",
      "metadata": {
        "id": "k56YVoZIddjj"
      },
      "source": [
        "# IF, ELSE\n",
        "if 100 == 99:\n",
        "  print(\"100 e 99 são iguais!\")\n",
        "else:\n",
        "  print(\"100 é diferente de 99\")"
      ],
      "execution_count": null,
      "outputs": []
    },
    {
      "cell_type": "code",
      "metadata": {
        "id": "VM88dXCpdfpa"
      },
      "source": [
        "# IF, ELIF, ELSE\n",
        "if 100 == 99:\n",
        "  print(\"100 e 99 são iguais!\")\n",
        "elif 100 > 99:\n",
        "  print(\"100 é maior que 99!\")\n",
        "else:\n",
        "  print(\"100 é menor que 99!\")"
      ],
      "execution_count": null,
      "outputs": []
    },
    {
      "cell_type": "markdown",
      "metadata": {
        "id": "VHKvcGePp2jv"
      },
      "source": [
        "6. Faça um Programa que peça dois números e imprima o maior deles.\n",
        "7. Faça um Programa que peça um valor e mostre na tela se o valor é positivo ou negativo.\n",
        "8. Faça um Programa que verifique se uma letra digitada é \"F\" ou \"M\". Conforme a letra escrever: F - Feminino, M - Masculino, Sexo Inválido.\n",
        "9. Faça um Programa que verifique se uma letra digitada é vogal ou consoante.\n",
        "10. Faça um programa para a leitura de duas notas parciais de um aluno. O programa deve calcular a média alcançada por aluno e apresentar:\n",
        "* A mensagem \"Aprovado\", se a média alcançada for maior ou igual a sete;\n",
        "* A mensagem \"Reprovado\", se a média for menor do que sete;\n",
        "* A mensagem \"Aprovado com Distinção\", se a média for igual a dez."
      ]
    },
    {
      "cell_type": "code",
      "metadata": {
        "id": "dxbQ9JpyMKSK"
      },
      "source": [
        "# desafio 6"
      ],
      "execution_count": null,
      "outputs": []
    },
    {
      "cell_type": "code",
      "metadata": {
        "id": "UFE9IqgYJcOQ"
      },
      "source": [
        "# desafio 7\n",
        "num1 = int(input(\"\"))\n",
        "\n",
        "if num1 > 0:\n",
        "  print(\"O número é positivo!\")\n",
        "else:\n",
        "  print(\"O número é negativo\")"
      ],
      "execution_count": null,
      "outputs": []
    },
    {
      "cell_type": "code",
      "metadata": {
        "id": "rpVjigpJMLpB"
      },
      "source": [
        "# desafio 8"
      ],
      "execution_count": null,
      "outputs": []
    },
    {
      "cell_type": "code",
      "metadata": {
        "id": "7WSgfEaTMMYw"
      },
      "source": [
        "# desafio 9"
      ],
      "execution_count": null,
      "outputs": []
    },
    {
      "cell_type": "code",
      "metadata": {
        "id": "GAJSyfV7MNPC"
      },
      "source": [
        "# desafio 10"
      ],
      "execution_count": null,
      "outputs": []
    },
    {
      "cell_type": "markdown",
      "metadata": {
        "id": "fc85ML8bcsbR"
      },
      "source": [
        "### Repetição"
      ]
    },
    {
      "cell_type": "code",
      "metadata": {
        "id": "Nfb90GWEcuRU"
      },
      "source": [
        "# FOR range\n",
        "#  start, stop, step\n",
        "# começa em 0, mas não conta o último elemento\n",
        "for x in range(0,1):\n",
        "  print(x)"
      ],
      "execution_count": null,
      "outputs": []
    },
    {
      "cell_type": "code",
      "metadata": {
        "id": "-xotKE8ShlRy"
      },
      "source": [
        "# FOR\n",
        "palavra = 'amanhã'\n",
        "for letra in palavra:\n",
        "  print(letra)"
      ],
      "execution_count": null,
      "outputs": []
    },
    {
      "cell_type": "code",
      "metadata": {
        "id": "a4X4aY2Xhem0"
      },
      "source": [
        "# WHILE\n",
        "num = 0\n",
        "while num < 100:\n",
        "  print(num)\n",
        "  num += 1"
      ],
      "execution_count": null,
      "outputs": []
    },
    {
      "cell_type": "markdown",
      "metadata": {
        "id": "1YF9GPXSqDMY"
      },
      "source": [
        "11. Faça um programa que peça uma nota, entre zero e dez. Mostre uma mensagem caso o valor seja inválido e continue pedindo até que o usuário informe um valor válido.\n",
        "12. Faça um programa que leia um nome de usuário e a sua senha e não aceite a senha igual ao nome do usuário, mostrando uma mensagem de erro e voltando a pedir as informações.\n",
        "13. Faça um programa que leia e valide as seguintes informações:\n",
        "* Nome: maior que 3 caracteres;\n",
        "* Idade: entre 0 e 150;\n",
        "* Salário: maior que zero;\n",
        "* Sexo: 'f' ou 'm';\n",
        "* Estado Civil: 's', 'c', 'v', 'd';\n",
        "14. Supondo que a população de um país A seja da ordem de 80000 habitantes com uma taxa anual de crescimento de 3% e que a população de B seja 200000 habitantes com uma taxa de crescimento de 1.5%. Faça um programa que calcule e escreva o número de anos necessários para que a população do país A ultrapasse ou iguale a população do país B, mantidas as taxas de crescimento.\n",
        "15. Altere o programa anterior permitindo ao usuário informar as populações e as taxas de crescimento iniciais. Valide a entrada e permita repetir a operação."
      ]
    },
    {
      "cell_type": "code",
      "metadata": {
        "id": "o7sB83GZL9q9"
      },
      "source": [
        "num1 = int(input(\"Digite um valor entre 0 e 10: \"))\n",
        "while num1 < 0 or num1 > 10:\n",
        "  print(\"Valor inválido!\")\n",
        "  num1 = int(input(\"Errado! Digite um valor entre 0 e 10: \"))"
      ],
      "execution_count": null,
      "outputs": []
    },
    {
      "cell_type": "markdown",
      "metadata": {
        "id": "lm-dZvAocvaa"
      },
      "source": [
        "### Funções"
      ]
    },
    {
      "cell_type": "code",
      "metadata": {
        "id": "O8-E-MsarYtn"
      },
      "source": [
        "def Potenciacao(x,y):\n",
        "  return x**y"
      ],
      "execution_count": null,
      "outputs": []
    },
    {
      "cell_type": "code",
      "metadata": {
        "id": "HFN2OtbwrijY"
      },
      "source": [
        "Potenciacao(2,2)"
      ],
      "execution_count": null,
      "outputs": []
    },
    {
      "cell_type": "code",
      "metadata": {
        "id": "TCnHj1XvrnXN"
      },
      "source": [
        "def Maiuscula(x):\n",
        "  return x.upper()"
      ],
      "execution_count": null,
      "outputs": []
    },
    {
      "cell_type": "code",
      "metadata": {
        "id": "nCUM3wHIruas"
      },
      "source": [
        "Maiuscula(\"oi\")"
      ],
      "execution_count": null,
      "outputs": []
    },
    {
      "cell_type": "markdown",
      "metadata": {
        "id": "rNFqcEWAqR33"
      },
      "source": [
        "16. Faça um programa, com uma função que necessite de três argumentos, e que forneça a soma desses três argumentos.\n",
        "17. Faça um programa, com uma função que necessite de um argumento. A função retorna o valor de caractere ‘P’, se seu argumento for positivo, e ‘N’, se seu argumento for zero ou negativo.\n",
        "18. Faça um programa com uma função chamada somaImposto. A função possui dois parâmetros formais: taxaImposto, que é a quantia de imposto sobre vendas expressa em porcentagem e custo, que é o custo de um item antes do imposto. A função “altera” o valor de custo para incluir o imposto sobre vendas."
      ]
    },
    {
      "cell_type": "code",
      "metadata": {
        "id": "zb4DY0ttNvEs"
      },
      "source": [
        "def Func(a,b,c):\n",
        "  return a+b+c \n",
        "\n",
        "Func(-12,-134,128)"
      ],
      "execution_count": null,
      "outputs": []
    },
    {
      "cell_type": "markdown",
      "metadata": {
        "id": "1daF_S9nx73y"
      },
      "source": [
        "### EXERCÍCIOS PARA ACELERAR SEU APRENDIZADO?\n",
        "\n",
        "---\n",
        "\n",
        "*   https://wiki.python.org.br/ListaDeExercicios\n",
        "*   https://www.hackerrank.com/domains/python\n",
        "\n"
      ]
    },
    {
      "cell_type": "markdown",
      "metadata": {
        "id": "rdUqR6VfOmsz"
      },
      "source": [
        "## 2 Dicas essenciais:\n",
        "## Networking\n",
        "![alt](https://programathor.com.br/blog/wp-content/uploads/2018/01/linkedin-profile-1-676x400.jpg)\n",
        "<br>Daqui em diante você PRECISA de um linkedin. Além disso, usa-lo diariamente. É sério: lá você será caçadx por recrutadores caso possua \"Data Science, Data Analytics, Machine Learning\" em sua descrição de trabalho. Tenha muitos \"tech recruiters\" em sua rede e interaja com eles.\n",
        "<br><br>\n",
        "## Portfólio\n",
        "![alt](https://www.coderomeos.org/storage/uploads/images/posts/how-to-use-github-simple-github-tutorial-for-beginners-5d75f561e98d4.png)\n",
        "Crie seu perfil em www.github.com e inicie seus repositórios de códigos"
      ]
    },
    {
      "cell_type": "markdown",
      "metadata": {
        "id": "0_z3UtuaXNHU"
      },
      "source": [
        "## JOGO DA FORCA! NÍVEL: INTERMEDIÁRIO"
      ]
    },
    {
      "cell_type": "code",
      "metadata": {
        "id": "aFCi6wCIXQfh"
      },
      "source": [
        "import random\n",
        "\n",
        "def get_word():\n",
        "    lista_palavras = ['gata', 'cão', 'lagarto', 'centopéia', 'boi']\n",
        "    word = random.choice(lista_palavras)\n",
        "    return word.upper()"
      ],
      "execution_count": null,
      "outputs": []
    },
    {
      "cell_type": "code",
      "metadata": {
        "id": "2hMpG5Jobv0t"
      },
      "source": [
        "def play(word):\n",
        "    word_completion = \"_\" * len(word) \n",
        "    guessed = False\n",
        "    guessed_letters = []\n",
        "    guessed_words = []\n",
        "    tries = 6\n",
        "    print(f\"JOGO DA FORCA!\\nDica: {len(word)} letras!\")\n",
        "    print(display_hangman(tries))\n",
        "    print(word_completion)\n",
        "    print(\"\\n\")\n",
        "    \n",
        "    while not guessed and tries > 0:\n",
        "        guess = input(\"Adivinhe uma letra ou palavra: \").upper()\n",
        "        if len(guess) == 1 and guess.isalpha():\n",
        "            if guess in guessed_letters:\n",
        "                print(\"Você já tentou \", guess)\n",
        "            elif guess not in word:\n",
        "                print(guess, \"Não.\")\n",
        "                tries -= 1\n",
        "                guessed_letters.append(guess)\n",
        "            else:\n",
        "                print(guess, \"está na palavra!\")\n",
        "                guessed_letters.append(guess)\n",
        "                word_as_list = list(word_completion)\n",
        "                indices = [i for i, letter in enumerate(word) if letter == guess]\n",
        "                for index in indices:\n",
        "                    word_as_list[index] = guess\n",
        "                word_completion = \"\".join(word_as_list)\n",
        "                if \"_\" not in word_completion:\n",
        "                    guessed = True\n",
        "        elif len(guess) == len(word) and guess.isalpha():\n",
        "            if guess in guessed_words:\n",
        "                print(\"Você já tentou a palavra\", guess)\n",
        "            elif guess != word:\n",
        "                print(guess, \"não é a palavra.\")\n",
        "                tries -= 1\n",
        "                guessed_words.append(guess)\n",
        "            else:\n",
        "                guessed = True\n",
        "                word_completion = word\n",
        "        else:\n",
        "            print(\"Inválido.\")\n",
        "        print(display_hangman(tries))\n",
        "        print(word_completion)\n",
        "        print(\"\\n\")\n",
        "    if guessed:\n",
        "        print(\"Parabéns, você adivinhou a palavra! Você venceu!\")\n",
        "    else:\n",
        "        print(\"Você perdeu!. A palavra era \" + word + \".\")"
      ],
      "execution_count": null,
      "outputs": []
    },
    {
      "cell_type": "code",
      "metadata": {
        "id": "X68nQMlkbyW7"
      },
      "source": [
        "def display_hangman(tries):\n",
        "    stages = [  # cabeça, tronco, braços e pernas: morte.\n",
        "                \"\"\"\n",
        "                   --------\n",
        "                   |      |\n",
        "                   |      O\n",
        "                   |     \\|/\n",
        "                   |      |\n",
        "                   |     / \\\n",
        "                   -\n",
        "                \"\"\",\n",
        "                # cabeça, tronco e braços, perna\n",
        "                \"\"\"\n",
        "                   --------\n",
        "                   |      |\n",
        "                   |      O\n",
        "                   |     \\|/\n",
        "                   |      |\n",
        "                   |     / \n",
        "                   -\n",
        "                \"\"\",\n",
        "                # cabeça, tronco e braços\n",
        "                \"\"\"\n",
        "                   --------\n",
        "                   |      |\n",
        "                   |      O\n",
        "                   |     \\|/\n",
        "                   |      |\n",
        "                   |      \n",
        "                   -\n",
        "                \"\"\",\n",
        "                # cabeça, tronco e braço\n",
        "                \"\"\"\n",
        "                   --------\n",
        "                   |      |\n",
        "                   |      O\n",
        "                   |     \\|\n",
        "                   |      |\n",
        "                   |     \n",
        "                   -\n",
        "                \"\"\",\n",
        "                # cabeça e tronco\n",
        "                \"\"\"\n",
        "                   --------\n",
        "                   |      |\n",
        "                   |      O\n",
        "                   |      |\n",
        "                   |      |\n",
        "                   |     \n",
        "                   -\n",
        "                \"\"\",\n",
        "                # cabeça\n",
        "                \"\"\"\n",
        "                   --------\n",
        "                   |      |\n",
        "                   |      O\n",
        "                   |    \n",
        "                   |      \n",
        "                   |     \n",
        "                   -\n",
        "                \"\"\",\n",
        "                # vazio\n",
        "                \"\"\"\n",
        "                   --------\n",
        "                   |      |\n",
        "                   |      \n",
        "                   |    \n",
        "                   |      \n",
        "                   |     \n",
        "                   -\n",
        "                \"\"\"\n",
        "    ]\n",
        "    return stages[tries]"
      ],
      "execution_count": null,
      "outputs": []
    },
    {
      "cell_type": "code",
      "metadata": {
        "id": "QrIFCFiib1pZ"
      },
      "source": [
        "def main():\n",
        "    word = get_word()\n",
        "    play(word)\n",
        "    while input(\"Jogar de novo? (S/N) \").upper() == \"S\":\n",
        "        word = get_word()\n",
        "        play(word)\n",
        "\n",
        "\n",
        "if __name__ == \"__main__\":\n",
        "    main()"
      ],
      "execution_count": null,
      "outputs": []
    },
    {
      "cell_type": "markdown",
      "metadata": {
        "id": "jeN91yWEm7yg"
      },
      "source": [
        "## CHATBOT\n",
        "\n",
        "---\n",
        "https://chatterbot.readthedocs.io/en/stable/\n"
      ]
    },
    {
      "cell_type": "code",
      "metadata": {
        "id": "2yg_c_vinEQY"
      },
      "source": [
        "!pip install chatterbot\n",
        "!pip install chatterbot_corpus"
      ],
      "execution_count": null,
      "outputs": []
    },
    {
      "cell_type": "code",
      "metadata": {
        "id": "LUrXaodsnGAw"
      },
      "source": [
        "from chatterbot import ChatBot\n",
        "from chatterbot.trainers import ListTrainer\n",
        "from chatterbot.trainers import ChatterBotCorpusTrainer\n",
        "\n",
        "bot = ChatBot('Pybot')\n",
        "bot = ChatBot(\n",
        "    'Pybot',\n",
        "    storage_adapter='chatterbot.storage.SQLStorageAdapter',\n",
        "    database_uri='sqlite:///database.sqlite3'\n",
        "    )\n",
        "    \n",
        "conversa = ListTrainer(bot)\n",
        "conversa.train([\n",
        "    'Oi?',\n",
        "    'Olá',\n",
        "    'Qual o seu nome?',\n",
        "    'Pybot',\n",
        "    'Prazer em te conhecer',\n",
        "    'Igualmente!',\n",
        "    'Tudo bem?',\n",
        "    'Muito bem e você?',\n",
        "    'Ótimo',\n",
        "    'Papo bom o nosso',\n",
        "    'kkk',\n",
        "    'adeus',\n",
        "    'Volte sempre!',\n",
        "])\n",
        "\n",
        "trainer = ChatterBotCorpusTrainer(bot)\n",
        "trainer.train('chatterbot.corpus.portuguese')"
      ],
      "execution_count": null,
      "outputs": []
    },
    {
      "cell_type": "code",
      "metadata": {
        "id": "g6Cd1zUonIHI"
      },
      "source": [
        "while True:\n",
        "  resposta = bot.get_response(input(\"Usuário: \"))\n",
        "  if float(resposta.confidence) > 0.5:]\n",
        "      print(\"Pybot: \", resposta)\n",
        "  else:\n",
        "      print(\"Desculpe, eu não entendi!\")"
      ],
      "execution_count": null,
      "outputs": []
    },
    {
      "cell_type": "markdown",
      "metadata": {
        "id": "L_0NaFCjJFfw"
      },
      "source": [
        "## PROJETO ANALYTICS\n",
        "\n",
        "---\n",
        "\n",
        "![alt text](https://miro.medium.com/max/377/1*_fR-2Yg-xaWXssnj08Zqeg.jpeg)"
      ]
    },
    {
      "cell_type": "markdown",
      "metadata": {
        "id": "AKLc9F1yAWTg"
      },
      "source": [
        "## PROJETO DATA SCIENCE\n",
        "\n",
        "---\n",
        "\n",
        "![pipeline](data:image/png;base64,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)"
      ]
    },
    {
      "cell_type": "markdown",
      "metadata": {
        "id": "waF4n1X6JwaH"
      },
      "source": [
        "# PROJETO IRIS<br>\n",
        "## PROBLEMA A SER RESOLVIDO(BUSINESS UNDERSTANDING)\n",
        "Automação de descoberta espécie de flor por imagem.<br>Pelo tamanho da pétala/sépala saber qual espécie da flor.<br>\n",
        "![alt text](data:image/jpeg;base64,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)\n",
        "\n",
        "---\n",
        "\n",
        "\n",
        "###Aplicação do mundo real:<br>\n",
        "![](https://s2.glbimg.com/_Tl3a-ZiqfyMG9D69qzASDT28Ns=/0x0:695x595/984x0/smart/filters:strip_icc()/i.s3.glbimg.com/v1/AUTH_08fbf48bc0524877943fe86e43087e7a/internal_photos/bs/2019/A/f/828oWfSA2NgwbCNAdM4Q/como-usar-o-plantnet-1.jpg)\n",
        "<br>\n",
        "https://www.techtudo.com.br/dicas-e-tutoriais/2019/02/aplicativo-para-identificar-plantas-por-foto-veja-como-usar-o-plantnet.ghtml"
      ]
    },
    {
      "cell_type": "markdown",
      "metadata": {
        "id": "BaK-ABxrc0Q1"
      },
      "source": [
        "##CLASSIFICAÇÃO VS REGRESSÃO\n",
        "![algoritmos](https://miro.medium.com/max/3200/1*ASYpFfDh7XnreU-ygqXonw.png)"
      ]
    },
    {
      "cell_type": "code",
      "metadata": {
        "id": "sP-_PDAfAdP2"
      },
      "source": [
        "# AQUISIÇÃO DE DADOS\n",
        "# CARREGANDO LIBRARIES\n",
        "#!pip install sklearn\n",
        "from sklearn import datasets\n",
        "iris = datasets.load_iris()\n",
        "# https://scikit-learn.org/stable/modules/generated/sklearn.datasets.load_iris.html"
      ],
      "execution_count": null,
      "outputs": []
    },
    {
      "cell_type": "code",
      "metadata": {
        "id": "uK-PbTq2Lp-f"
      },
      "source": [
        "help(datasets.load_iris)"
      ],
      "execution_count": null,
      "outputs": []
    },
    {
      "cell_type": "code",
      "metadata": {
        "id": "CeVik_VWHVHP"
      },
      "source": [
        "# PRÉ-PROCESSAMENTO (PREPROCESSING) / ANÁLISE EXPLORATÓRIA\n",
        "iris.feature_names"
      ],
      "execution_count": null,
      "outputs": []
    },
    {
      "cell_type": "code",
      "metadata": {
        "id": "Rl6EyPglAhAW"
      },
      "source": [
        "# DADOS QUE TEMOS\n",
        "iris.data"
      ],
      "execution_count": null,
      "outputs": []
    },
    {
      "cell_type": "code",
      "metadata": {
        "id": "qg3TPwhwLZrZ"
      },
      "source": [
        "# O QUE DEVEMOS PREVER? SEMPRE SEPARAR OS DADOS DAS RESPOSTAS!\n",
        "iris.target"
      ],
      "execution_count": null,
      "outputs": []
    },
    {
      "cell_type": "markdown",
      "metadata": {
        "id": "lMK69VD8XdtG"
      },
      "source": [
        "## Dados do mundo real?"
      ]
    },
    {
      "cell_type": "code",
      "metadata": {
        "id": "kPHwd14LW_AP"
      },
      "source": [
        "# GERALMENTE...\n",
        "import pandas as pd\n",
        "dataset = pd.read_csv('https://gist.githubusercontent.com/netj/8836201/raw/6f9306ad21398ea43cba4f7d537619d0e07d5ae3/iris.csv')\n",
        "dataset.head()"
      ],
      "execution_count": null,
      "outputs": []
    },
    {
      "cell_type": "markdown",
      "metadata": {
        "id": "5-qJ_Nc5XQ8G"
      },
      "source": [
        "## Dataviz"
      ]
    },
    {
      "cell_type": "code",
      "metadata": {
        "id": "v-j7spltAsK_"
      },
      "source": [
        "# DATAVIZ\n",
        "from matplotlib import pyplot as plt\n",
        "\n",
        "# Índices das nossas features x/y\n",
        "x_index = 0 \n",
        "y_index = 1\n",
        "\n",
        "# Barra colorida de acordo com a target\n",
        "formatter = plt.FuncFormatter(lambda i, *args: iris.target_names[int(i)])\n",
        "\n",
        "# Preparamos infos sobre o gráfico\n",
        "plt.figure(figsize=(10, 6)) # tamanho da figura\n",
        "plt.scatter(iris.data[:, x_index], iris.data[:, y_index], c=iris.target) # tipo de gráfico\n",
        "plt.colorbar(ticks=[0, 1, 2], format=formatter) # cores\n",
        "plt.xlabel(iris.feature_names[x_index]) # eixo X (horizontal)\n",
        "plt.ylabel(iris.feature_names[y_index]) # eixo Y (vertical)\n",
        "\n",
        "# extraia insights/compartilhe com o mundo!\n",
        "plt.tight_layout()\n",
        "plt.show()"
      ],
      "execution_count": null,
      "outputs": []
    }
  ]
}